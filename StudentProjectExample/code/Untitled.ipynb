{
 "cells": [
  {
   "cell_type": "code",
   "execution_count": null,
   "metadata": {},
   "outputs": [],
   "source": [
    "> # This is the introduction to Ryan Kiey's Data Download for CEE600M0002 Fall 2020.\n",
    "> # In this file I will be downloading the Leveed Area, Segment and System Data for Levees which were constructed between the years 2000 and 2020 \n",
    "> # R Script created using Microsoft R Console 3.5.1 GUI 1.7 El Capitan Build"
   ]
  },
  {
   "cell_type": "code",
   "execution_count": null,
   "metadata": {},
   "outputs": [],
   "source": [
    "require(raster)\n",
    "require(stringr)\n",
    "\n",
    "local_dir = \"ryankiey/desktop/levees0020\""
   ]
  }
 ],
 "metadata": {
  "kernelspec": {
   "display_name": "R",
   "language": "R",
   "name": "ir"
  }
 },
 "nbformat": 4,
 "nbformat_minor": 4
}
